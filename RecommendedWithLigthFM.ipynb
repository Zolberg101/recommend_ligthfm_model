{
 "cells": [
  {
   "cell_type": "markdown",
   "metadata": {},
   "source": [
    "Задача: написать рекомендательная модель, на данных, представленных в датасете с сайта игр. Необходимо, чтобы модель, предлагала пользователям игры, основываясь на их оценках. "
   ]
  },
  {
   "cell_type": "code",
   "execution_count": 4,
   "metadata": {},
   "outputs": [],
   "source": [
    "import pandas as pd\n",
    "import numpy as np\n",
    "from sklearn.feature_extraction.text import CountVectorizer, TfidfTransformer\n",
    "from sklearn.feature_extraction.text import TfidfVectorizer\n",
    "from sklearn.linear_model import LogisticRegression\n",
    "from sklearn.svm import LinearSVC\n",
    "from sklearn.metrics import accuracy_score\n",
    "from sklearn.naive_bayes import MultinomialNB\n",
    "import warnings\n",
    "warnings.filterwarnings('ignore')"
   ]
  },
  {
   "cell_type": "code",
   "execution_count": 5,
   "metadata": {},
   "outputs": [
    {
     "data": {
      "text/html": [
       "<div>\n",
       "<style scoped>\n",
       "    .dataframe tbody tr th:only-of-type {\n",
       "        vertical-align: middle;\n",
       "    }\n",
       "\n",
       "    .dataframe tbody tr th {\n",
       "        vertical-align: top;\n",
       "    }\n",
       "\n",
       "    .dataframe thead th {\n",
       "        text-align: right;\n",
       "    }\n",
       "</style>\n",
       "<table border=\"1\" class=\"dataframe\">\n",
       "  <thead>\n",
       "    <tr style=\"text-align: right;\">\n",
       "      <th></th>\n",
       "      <th>Unnamed: 0</th>\n",
       "      <th>reviewerID</th>\n",
       "      <th>asin</th>\n",
       "      <th>reviewerName</th>\n",
       "      <th>helpful</th>\n",
       "      <th>reviewText</th>\n",
       "      <th>overall</th>\n",
       "      <th>summary</th>\n",
       "      <th>reviewTime</th>\n",
       "    </tr>\n",
       "  </thead>\n",
       "  <tbody>\n",
       "    <tr>\n",
       "      <th>0</th>\n",
       "      <td>0</td>\n",
       "      <td>A2HD75EMZR8QLN</td>\n",
       "      <td>0700099867</td>\n",
       "      <td>123</td>\n",
       "      <td>[8, 12]</td>\n",
       "      <td>Installing the game was a struggle (because of...</td>\n",
       "      <td>1.0</td>\n",
       "      <td>Pay to unlock content? I don't think so.</td>\n",
       "      <td>2012-07-09</td>\n",
       "    </tr>\n",
       "    <tr>\n",
       "      <th>1</th>\n",
       "      <td>1</td>\n",
       "      <td>A3UR8NLLY1ZHCX</td>\n",
       "      <td>0700099867</td>\n",
       "      <td>Alejandro Henao \"Electronic Junky\"</td>\n",
       "      <td>[0, 0]</td>\n",
       "      <td>If you like rally cars get this game you will ...</td>\n",
       "      <td>4.0</td>\n",
       "      <td>Good rally game</td>\n",
       "      <td>2013-06-30</td>\n",
       "    </tr>\n",
       "    <tr>\n",
       "      <th>2</th>\n",
       "      <td>2</td>\n",
       "      <td>A1INA0F5CWW3J4</td>\n",
       "      <td>0700099867</td>\n",
       "      <td>Amazon Shopper \"Mr.Repsol\"</td>\n",
       "      <td>[0, 0]</td>\n",
       "      <td>1st shipment received a book instead of the ga...</td>\n",
       "      <td>1.0</td>\n",
       "      <td>Wrong key</td>\n",
       "      <td>2014-06-28</td>\n",
       "    </tr>\n",
       "    <tr>\n",
       "      <th>3</th>\n",
       "      <td>3</td>\n",
       "      <td>A1DLMTOTHQ4AST</td>\n",
       "      <td>0700099867</td>\n",
       "      <td>ampgreen</td>\n",
       "      <td>[7, 10]</td>\n",
       "      <td>I got this version instead of the PS3 version,...</td>\n",
       "      <td>NaN</td>\n",
       "      <td>awesome game, if it did not crash frequently !!</td>\n",
       "      <td>2011-09-14</td>\n",
       "    </tr>\n",
       "    <tr>\n",
       "      <th>4</th>\n",
       "      <td>4</td>\n",
       "      <td>A361M14PU2GUEG</td>\n",
       "      <td>0700099867</td>\n",
       "      <td>Angry Ryan \"Ryan A. Forrest\"</td>\n",
       "      <td>[2, 2]</td>\n",
       "      <td>I had Dirt 2 on Xbox 360 and it was an okay ga...</td>\n",
       "      <td>4.0</td>\n",
       "      <td>DIRT 3</td>\n",
       "      <td>2011-06-14</td>\n",
       "    </tr>\n",
       "  </tbody>\n",
       "</table>\n",
       "</div>"
      ],
      "text/plain": [
       "   Unnamed: 0      reviewerID        asin                        reviewerName  \\\n",
       "0           0  A2HD75EMZR8QLN  0700099867                                 123   \n",
       "1           1  A3UR8NLLY1ZHCX  0700099867  Alejandro Henao \"Electronic Junky\"   \n",
       "2           2  A1INA0F5CWW3J4  0700099867          Amazon Shopper \"Mr.Repsol\"   \n",
       "3           3  A1DLMTOTHQ4AST  0700099867                            ampgreen   \n",
       "4           4  A361M14PU2GUEG  0700099867        Angry Ryan \"Ryan A. Forrest\"   \n",
       "\n",
       "   helpful                                         reviewText  overall  \\\n",
       "0  [8, 12]  Installing the game was a struggle (because of...      1.0   \n",
       "1   [0, 0]  If you like rally cars get this game you will ...      4.0   \n",
       "2   [0, 0]  1st shipment received a book instead of the ga...      1.0   \n",
       "3  [7, 10]  I got this version instead of the PS3 version,...      NaN   \n",
       "4   [2, 2]  I had Dirt 2 on Xbox 360 and it was an okay ga...      4.0   \n",
       "\n",
       "                                           summary reviewTime  \n",
       "0         Pay to unlock content? I don't think so. 2012-07-09  \n",
       "1                                  Good rally game 2013-06-30  \n",
       "2                                        Wrong key 2014-06-28  \n",
       "3  awesome game, if it did not crash frequently !! 2011-09-14  \n",
       "4                                           DIRT 3 2011-06-14  "
      ]
     },
     "execution_count": 5,
     "metadata": {},
     "output_type": "execute_result"
    }
   ],
   "source": [
    "df = pd.read_csv('reviews_Video_Games.csv', sep=';')\n",
    "df['reviewTime'] = pd.to_datetime(df['reviewTime'])\n",
    "df.head()"
   ]
  },
  {
   "cell_type": "markdown",
   "metadata": {},
   "source": [
    "<br>•\treviewerID - уникальный ID пользователя например A2SUAM1J3GNN3B\n",
    "<br>•\tasin - уникальный ID игры например 0000013714\n",
    "<br>•\treviewerName - имя ревьюэра\n",
    "<br>•\thelpful – признак насколько полезен рейтинг\n",
    "<br>•\treviewText – текст ревью\n",
    "<br>•\toverall – рейтинг\n",
    "<br>•\tsummary – краткое суммари по ревью\n",
    "<br>•\treviewTime – время ревью"
   ]
  },
  {
   "cell_type": "code",
   "execution_count": 6,
   "metadata": {},
   "outputs": [
    {
     "name": "stdout",
     "output_type": "stream",
     "text": [
      "<class 'pandas.core.frame.DataFrame'>\n",
      "RangeIndex: 185206 entries, 0 to 185205\n",
      "Data columns (total 9 columns):\n",
      " #   Column        Non-Null Count   Dtype         \n",
      "---  ------        --------------   -----         \n",
      " 0   Unnamed: 0    185206 non-null  int64         \n",
      " 1   reviewerID    185206 non-null  object        \n",
      " 2   asin          185206 non-null  object        \n",
      " 3   reviewerName  182939 non-null  object        \n",
      " 4   helpful       185206 non-null  object        \n",
      " 5   reviewText    185166 non-null  object        \n",
      " 6   overall       167628 non-null  float64       \n",
      " 7   summary       185198 non-null  object        \n",
      " 8   reviewTime    185206 non-null  datetime64[ns]\n",
      "dtypes: datetime64[ns](1), float64(1), int64(1), object(6)\n",
      "memory usage: 12.7+ MB\n"
     ]
    }
   ],
   "source": [
    "df.info()"
   ]
  },
  {
   "cell_type": "markdown",
   "metadata": {},
   "source": [
    "Для начала нужно восстановить пропущенные оценки пользователей. Воспользуемся их текстом и оценкой, для обучения модели. (остальные признаки на первый взгляд не очень полезны)"
   ]
  },
  {
   "cell_type": "code",
   "execution_count": 7,
   "metadata": {
    "scrolled": true
   },
   "outputs": [
    {
     "data": {
      "text/html": [
       "<div>\n",
       "<style scoped>\n",
       "    .dataframe tbody tr th:only-of-type {\n",
       "        vertical-align: middle;\n",
       "    }\n",
       "\n",
       "    .dataframe tbody tr th {\n",
       "        vertical-align: top;\n",
       "    }\n",
       "\n",
       "    .dataframe thead th {\n",
       "        text-align: right;\n",
       "    }\n",
       "</style>\n",
       "<table border=\"1\" class=\"dataframe\">\n",
       "  <thead>\n",
       "    <tr style=\"text-align: right;\">\n",
       "      <th></th>\n",
       "      <th>reviewerID</th>\n",
       "      <th>asin</th>\n",
       "      <th>overall</th>\n",
       "    </tr>\n",
       "  </thead>\n",
       "  <tbody>\n",
       "    <tr>\n",
       "      <th>0</th>\n",
       "      <td>A2HD75EMZR8QLN</td>\n",
       "      <td>0700099867</td>\n",
       "      <td>1.0</td>\n",
       "    </tr>\n",
       "    <tr>\n",
       "      <th>1</th>\n",
       "      <td>A3UR8NLLY1ZHCX</td>\n",
       "      <td>0700099867</td>\n",
       "      <td>4.0</td>\n",
       "    </tr>\n",
       "    <tr>\n",
       "      <th>2</th>\n",
       "      <td>A1INA0F5CWW3J4</td>\n",
       "      <td>0700099867</td>\n",
       "      <td>1.0</td>\n",
       "    </tr>\n",
       "    <tr>\n",
       "      <th>3</th>\n",
       "      <td>A1DLMTOTHQ4AST</td>\n",
       "      <td>0700099867</td>\n",
       "      <td>NaN</td>\n",
       "    </tr>\n",
       "    <tr>\n",
       "      <th>4</th>\n",
       "      <td>A361M14PU2GUEG</td>\n",
       "      <td>0700099867</td>\n",
       "      <td>4.0</td>\n",
       "    </tr>\n",
       "  </tbody>\n",
       "</table>\n",
       "</div>"
      ],
      "text/plain": [
       "       reviewerID        asin  overall\n",
       "0  A2HD75EMZR8QLN  0700099867      1.0\n",
       "1  A3UR8NLLY1ZHCX  0700099867      4.0\n",
       "2  A1INA0F5CWW3J4  0700099867      1.0\n",
       "3  A1DLMTOTHQ4AST  0700099867      NaN\n",
       "4  A361M14PU2GUEG  0700099867      4.0"
      ]
     },
     "execution_count": 7,
     "metadata": {},
     "output_type": "execute_result"
    }
   ],
   "source": [
    "# df_ = df.drop(['Unnamed: 0', 'reviewerName', 'reviewText', 'helpful', 'summary', 'reviewTime'], axis=1)\n",
    "# df_.head()"
   ]
  },
  {
   "cell_type": "code",
   "execution_count": 8,
   "metadata": {},
   "outputs": [],
   "source": [
    "nan = df.loc[df['overall'].isnull()]"
   ]
  },
  {
   "cell_type": "code",
   "execution_count": 9,
   "metadata": {},
   "outputs": [],
   "source": [
    "list_of_nan= list(nan['Unnamed: 0'])"
   ]
  },
  {
   "cell_type": "code",
   "execution_count": 10,
   "metadata": {},
   "outputs": [],
   "source": [
    "df_wo_nan = df.dropna()"
   ]
  },
  {
   "cell_type": "code",
   "execution_count": 11,
   "metadata": {},
   "outputs": [],
   "source": [
    "#X, y = df['reviewText'], df_wo_nan['overall']\n",
    "X_train, y_train = df_wo_nan['reviewText'][:150000], df_wo_nan['overall'][:150000]\n",
    "X_train_t, y_train_t = df_wo_nan['reviewText'][150000:], df_wo_nan['overall'][150000:]\n",
    "X_test, y_test = nan['reviewText'], nan['overall']"
   ]
  },
  {
   "cell_type": "code",
   "execution_count": 12,
   "metadata": {},
   "outputs": [],
   "source": [
    "cv = CountVectorizer()\n",
    "logit = LogisticRegression(n_jobs=-5, random_state=42)"
   ]
  },
  {
   "cell_type": "code",
   "execution_count": 13,
   "metadata": {},
   "outputs": [
    {
     "data": {
      "text/plain": [
       "CountVectorizer()"
      ]
     },
     "execution_count": 13,
     "metadata": {},
     "output_type": "execute_result"
    }
   ],
   "source": [
    "cv.fit(X_train, y_train)"
   ]
  },
  {
   "cell_type": "code",
   "execution_count": 14,
   "metadata": {},
   "outputs": [],
   "source": [
    "X_tr = cv.transform(X_train)\n",
    "x_te = cv.transform(X_test.values.astype('U'))"
   ]
  },
  {
   "cell_type": "code",
   "execution_count": 17,
   "metadata": {},
   "outputs": [
    {
     "data": {
      "text/plain": [
       "LogisticRegression(n_jobs=-5, random_state=42)"
      ]
     },
     "execution_count": 17,
     "metadata": {},
     "output_type": "execute_result"
    }
   ],
   "source": [
    "logit.fit(X_tr, y_train)"
   ]
  },
  {
   "cell_type": "code",
   "execution_count": 18,
   "metadata": {},
   "outputs": [],
   "source": [
    "pred = logit.predict((x_te))"
   ]
  },
  {
   "cell_type": "code",
   "execution_count": 19,
   "metadata": {},
   "outputs": [],
   "source": [
    "pred_t = logit.predict(cv.transform(X_train_t))"
   ]
  },
  {
   "cell_type": "code",
   "execution_count": 20,
   "metadata": {},
   "outputs": [
    {
     "name": "stdout",
     "output_type": "stream",
     "text": [
      "score: 0.63\n"
     ]
    }
   ],
   "source": [
    "print(\"score:\", round(accuracy_score(y_train_t, pred_t),2))"
   ]
  },
  {
   "cell_type": "markdown",
   "metadata": {},
   "source": [
    "LogisticRegression 0.63. Слабовато."
   ]
  },
  {
   "cell_type": "code",
   "execution_count": 21,
   "metadata": {
    "scrolled": true
   },
   "outputs": [
    {
     "data": {
      "text/plain": [
       "11856"
      ]
     },
     "execution_count": 21,
     "metadata": {},
     "output_type": "execute_result"
    }
   ],
   "source": [
    "cv.vocabulary_.get(u'algorithm')"
   ]
  },
  {
   "cell_type": "code",
   "execution_count": 103,
   "metadata": {},
   "outputs": [],
   "source": [
    "from sklearn.linear_model import SGDClassifier\n",
    "from sklearn.pipeline import Pipeline"
   ]
  },
  {
   "cell_type": "code",
   "execution_count": 106,
   "metadata": {},
   "outputs": [],
   "source": [
    "text_clf = Pipeline([('vect', CountVectorizer()),\n",
    "                      ('tfidf', TfidfTransformer()),\n",
    "                      ('clf', SGDClassifier(loss='hinge', penalty='l2',alpha=1e-3,random_state=42)),])"
   ]
  },
  {
   "cell_type": "code",
   "execution_count": 112,
   "metadata": {},
   "outputs": [],
   "source": [
    "from sklearn.model_selection import GridSearchCV\n",
    "parameters = {'vect__ngram_range': [(1, 1), (1, 2)],\n",
    "               'tfidf__use_idf': (True, False),\n",
    "               'clf__alpha': (1e-2, 1e-3),}"
   ]
  },
  {
   "cell_type": "code",
   "execution_count": 98,
   "metadata": {},
   "outputs": [],
   "source": [
    "from xgboost import XGBClassifier"
   ]
  },
  {
   "cell_type": "code",
   "execution_count": 130,
   "metadata": {},
   "outputs": [
    {
     "data": {
      "text/plain": [
       "XGBClassifier(base_score=0.5, booster='gbtree', colsample_bylevel=1,\n",
       "              colsample_bynode=1, colsample_bytree=1, gamma=0,\n",
       "              learning_rate=0.1, max_delta_step=0, max_depth=10,\n",
       "              min_child_weight=1, missing=None, n_estimators=10, n_jobs=-1,\n",
       "              nthread=None, objective='multi:softprob', random_state=42,\n",
       "              reg_alpha=0, reg_lambda=1, scale_pos_weight=1, seed=None,\n",
       "              silent=None, subsample=1, verbosity=1)"
      ]
     },
     "execution_count": 130,
     "metadata": {},
     "output_type": "execute_result"
    }
   ],
   "source": [
    "model = XGBClassifier(max_depth=10, random_state=42, n_estimators=10, n_jobs=-1)\n",
    "model.fit(X_tr, y_train)"
   ]
  },
  {
   "cell_type": "code",
   "execution_count": 132,
   "metadata": {},
   "outputs": [],
   "source": [
    "predict_xgb = model.predict(X_train_t_tr)"
   ]
  },
  {
   "cell_type": "code",
   "execution_count": 134,
   "metadata": {},
   "outputs": [
    {
     "name": "stdout",
     "output_type": "stream",
     "text": [
      "score: 0.59\n"
     ]
    }
   ],
   "source": [
    "print(\"score:\", round(accuracy_score(y_train_t, predict_xgb),2))"
   ]
  },
  {
   "cell_type": "markdown",
   "metadata": {},
   "source": [
    "Logit лучше предсказывает, чем XGB. Возможно не настроены гиперпараметры, но перебором по сетке параметров показало, что это лучший результат текущий."
   ]
  },
  {
   "cell_type": "code",
   "execution_count": 22,
   "metadata": {
    "scrolled": true
   },
   "outputs": [
    {
     "data": {
      "text/html": [
       "<div>\n",
       "<style scoped>\n",
       "    .dataframe tbody tr th:only-of-type {\n",
       "        vertical-align: middle;\n",
       "    }\n",
       "\n",
       "    .dataframe tbody tr th {\n",
       "        vertical-align: top;\n",
       "    }\n",
       "\n",
       "    .dataframe thead th {\n",
       "        text-align: right;\n",
       "    }\n",
       "</style>\n",
       "<table border=\"1\" class=\"dataframe\">\n",
       "  <thead>\n",
       "    <tr style=\"text-align: right;\">\n",
       "      <th></th>\n",
       "      <th>Unnamed: 0</th>\n",
       "      <th>reviewerID</th>\n",
       "      <th>asin</th>\n",
       "      <th>reviewerName</th>\n",
       "      <th>helpful</th>\n",
       "      <th>reviewText</th>\n",
       "      <th>overall</th>\n",
       "      <th>summary</th>\n",
       "      <th>reviewTime</th>\n",
       "    </tr>\n",
       "  </thead>\n",
       "  <tbody>\n",
       "    <tr>\n",
       "      <th>3</th>\n",
       "      <td>3</td>\n",
       "      <td>A1DLMTOTHQ4AST</td>\n",
       "      <td>0700099867</td>\n",
       "      <td>ampgreen</td>\n",
       "      <td>[7, 10]</td>\n",
       "      <td>I got this version instead of the PS3 version,...</td>\n",
       "      <td>1.0</td>\n",
       "      <td>awesome game, if it did not crash frequently !!</td>\n",
       "      <td>2011-09-14</td>\n",
       "    </tr>\n",
       "    <tr>\n",
       "      <th>8</th>\n",
       "      <td>9</td>\n",
       "      <td>A2JLT2WY0F2HVI</td>\n",
       "      <td>0700099867</td>\n",
       "      <td>D. Sweetapple</td>\n",
       "      <td>[1, 1]</td>\n",
       "      <td>I still haven't figured this one out. Did ever...</td>\n",
       "      <td>5.0</td>\n",
       "      <td>Couldn't get this one to work</td>\n",
       "      <td>2014-02-08</td>\n",
       "    </tr>\n",
       "    <tr>\n",
       "      <th>19</th>\n",
       "      <td>25</td>\n",
       "      <td>A37M0B3NHDHN9V</td>\n",
       "      <td>6050036071</td>\n",
       "      <td>Fernando</td>\n",
       "      <td>[0, 0]</td>\n",
       "      <td>Works good, however is not \"like a new\" with a...</td>\n",
       "      <td>5.0</td>\n",
       "      <td>Works good!</td>\n",
       "      <td>2012-04-10</td>\n",
       "    </tr>\n",
       "    <tr>\n",
       "      <th>25</th>\n",
       "      <td>34</td>\n",
       "      <td>AZGQXYB4TAODL</td>\n",
       "      <td>7100027950</td>\n",
       "      <td>FightForTheLost</td>\n",
       "      <td>[0, 6]</td>\n",
       "      <td>The greatest bait and switch betrayal of a fan...</td>\n",
       "      <td>1.0</td>\n",
       "      <td>The most hated videogame of all time and great...</td>\n",
       "      <td>2014-02-21</td>\n",
       "    </tr>\n",
       "    <tr>\n",
       "      <th>31</th>\n",
       "      <td>41</td>\n",
       "      <td>A2ZYJOZO6BPV6K</td>\n",
       "      <td>7293000936</td>\n",
       "      <td>H. Clark \"vivchick\"</td>\n",
       "      <td>[1, 1]</td>\n",
       "      <td>This product is very good and works fine. Buy ...</td>\n",
       "      <td>5.0</td>\n",
       "      <td>For the price its great.</td>\n",
       "      <td>2011-09-05</td>\n",
       "    </tr>\n",
       "  </tbody>\n",
       "</table>\n",
       "</div>"
      ],
      "text/plain": [
       "    Unnamed: 0      reviewerID        asin         reviewerName  helpful  \\\n",
       "3            3  A1DLMTOTHQ4AST  0700099867             ampgreen  [7, 10]   \n",
       "8            9  A2JLT2WY0F2HVI  0700099867        D. Sweetapple   [1, 1]   \n",
       "19          25  A37M0B3NHDHN9V  6050036071             Fernando   [0, 0]   \n",
       "25          34   AZGQXYB4TAODL  7100027950      FightForTheLost   [0, 6]   \n",
       "31          41  A2ZYJOZO6BPV6K  7293000936  H. Clark \"vivchick\"   [1, 1]   \n",
       "\n",
       "                                           reviewText  overall  \\\n",
       "3   I got this version instead of the PS3 version,...      1.0   \n",
       "8   I still haven't figured this one out. Did ever...      5.0   \n",
       "19  Works good, however is not \"like a new\" with a...      5.0   \n",
       "25  The greatest bait and switch betrayal of a fan...      1.0   \n",
       "31  This product is very good and works fine. Buy ...      5.0   \n",
       "\n",
       "                                              summary reviewTime  \n",
       "3     awesome game, if it did not crash frequently !! 2011-09-14  \n",
       "8                       Couldn't get this one to work 2014-02-08  \n",
       "19                                        Works good! 2012-04-10  \n",
       "25  The most hated videogame of all time and great... 2014-02-21  \n",
       "31                           For the price its great. 2011-09-05  "
      ]
     },
     "execution_count": 22,
     "metadata": {},
     "output_type": "execute_result"
    }
   ],
   "source": [
    "nan_w_pred = nan.copy()\n",
    "nan_w_pred['overall'] = pred\n",
    "nan_w_pred.head()"
   ]
  },
  {
   "cell_type": "code",
   "execution_count": 23,
   "metadata": {
    "scrolled": true
   },
   "outputs": [
    {
     "data": {
      "text/html": [
       "<div>\n",
       "<style scoped>\n",
       "    .dataframe tbody tr th:only-of-type {\n",
       "        vertical-align: middle;\n",
       "    }\n",
       "\n",
       "    .dataframe tbody tr th {\n",
       "        vertical-align: top;\n",
       "    }\n",
       "\n",
       "    .dataframe thead th {\n",
       "        text-align: right;\n",
       "    }\n",
       "</style>\n",
       "<table border=\"1\" class=\"dataframe\">\n",
       "  <thead>\n",
       "    <tr style=\"text-align: right;\">\n",
       "      <th></th>\n",
       "      <th>Unnamed: 0</th>\n",
       "      <th>reviewerID</th>\n",
       "      <th>asin</th>\n",
       "      <th>reviewerName</th>\n",
       "      <th>helpful</th>\n",
       "      <th>reviewText</th>\n",
       "      <th>overall</th>\n",
       "      <th>summary</th>\n",
       "      <th>reviewTime</th>\n",
       "    </tr>\n",
       "  </thead>\n",
       "  <tbody>\n",
       "    <tr>\n",
       "      <th>0</th>\n",
       "      <td>0</td>\n",
       "      <td>A2HD75EMZR8QLN</td>\n",
       "      <td>0700099867</td>\n",
       "      <td>123</td>\n",
       "      <td>[8, 12]</td>\n",
       "      <td>Installing the game was a struggle (because of...</td>\n",
       "      <td>1.0</td>\n",
       "      <td>Pay to unlock content? I don't think so.</td>\n",
       "      <td>2012-07-09</td>\n",
       "    </tr>\n",
       "    <tr>\n",
       "      <th>1</th>\n",
       "      <td>1</td>\n",
       "      <td>A3UR8NLLY1ZHCX</td>\n",
       "      <td>0700099867</td>\n",
       "      <td>Alejandro Henao \"Electronic Junky\"</td>\n",
       "      <td>[0, 0]</td>\n",
       "      <td>If you like rally cars get this game you will ...</td>\n",
       "      <td>4.0</td>\n",
       "      <td>Good rally game</td>\n",
       "      <td>2013-06-30</td>\n",
       "    </tr>\n",
       "    <tr>\n",
       "      <th>2</th>\n",
       "      <td>2</td>\n",
       "      <td>A1INA0F5CWW3J4</td>\n",
       "      <td>0700099867</td>\n",
       "      <td>Amazon Shopper \"Mr.Repsol\"</td>\n",
       "      <td>[0, 0]</td>\n",
       "      <td>1st shipment received a book instead of the ga...</td>\n",
       "      <td>1.0</td>\n",
       "      <td>Wrong key</td>\n",
       "      <td>2014-06-28</td>\n",
       "    </tr>\n",
       "    <tr>\n",
       "      <th>3</th>\n",
       "      <td>4</td>\n",
       "      <td>A361M14PU2GUEG</td>\n",
       "      <td>0700099867</td>\n",
       "      <td>Angry Ryan \"Ryan A. Forrest\"</td>\n",
       "      <td>[2, 2]</td>\n",
       "      <td>I had Dirt 2 on Xbox 360 and it was an okay ga...</td>\n",
       "      <td>4.0</td>\n",
       "      <td>DIRT 3</td>\n",
       "      <td>2011-06-14</td>\n",
       "    </tr>\n",
       "    <tr>\n",
       "      <th>4</th>\n",
       "      <td>5</td>\n",
       "      <td>A2UTRVO4FDCBH6</td>\n",
       "      <td>0700099867</td>\n",
       "      <td>A.R.G.</td>\n",
       "      <td>[0, 0]</td>\n",
       "      <td>Overall this is a well done racing game, with ...</td>\n",
       "      <td>4.0</td>\n",
       "      <td>Good racing game, terrible Windows Live Requir...</td>\n",
       "      <td>2013-05-11</td>\n",
       "    </tr>\n",
       "    <tr>\n",
       "      <th>...</th>\n",
       "      <td>...</td>\n",
       "      <td>...</td>\n",
       "      <td>...</td>\n",
       "      <td>...</td>\n",
       "      <td>...</td>\n",
       "      <td>...</td>\n",
       "      <td>...</td>\n",
       "      <td>...</td>\n",
       "      <td>...</td>\n",
       "    </tr>\n",
       "    <tr>\n",
       "      <th>183101</th>\n",
       "      <td>231693</td>\n",
       "      <td>A244FWBXEBGG10</td>\n",
       "      <td>B00JM3R6M6</td>\n",
       "      <td>Raven</td>\n",
       "      <td>[1, 3]</td>\n",
       "      <td>Had Fun With It But Starting To Get Boring</td>\n",
       "      <td>5.0</td>\n",
       "      <td>Fun But Gets Boring When Unlock Everything</td>\n",
       "      <td>2014-07-12</td>\n",
       "    </tr>\n",
       "    <tr>\n",
       "      <th>183102</th>\n",
       "      <td>231703</td>\n",
       "      <td>ATKKCGDROU0X0</td>\n",
       "      <td>B00JQ8YH6A</td>\n",
       "      <td>Jpaul</td>\n",
       "      <td>[2, 6]</td>\n",
       "      <td>As far as Nancy Drew games go this one is very...</td>\n",
       "      <td>3.0</td>\n",
       "      <td>Not a typical mystery but still good</td>\n",
       "      <td>2014-06-04</td>\n",
       "    </tr>\n",
       "    <tr>\n",
       "      <th>183103</th>\n",
       "      <td>231741</td>\n",
       "      <td>A3TAS1AG6FMBQW</td>\n",
       "      <td>B00JXW6GE0</td>\n",
       "      <td>Jeri Zerr \"formerly a Road Warrior of the Nth...</td>\n",
       "      <td>[0, 0]</td>\n",
       "      <td>The KLORTS wired gaming mouse is such a freaki...</td>\n",
       "      <td>5.0</td>\n",
       "      <td>The KLORTS wired gaming mouse is such a freaki...</td>\n",
       "      <td>2014-07-16</td>\n",
       "    </tr>\n",
       "    <tr>\n",
       "      <th>183104</th>\n",
       "      <td>231754</td>\n",
       "      <td>A3E89VW74Z8TK8</td>\n",
       "      <td>B00KAI3KW2</td>\n",
       "      <td>FallenSphinx</td>\n",
       "      <td>[2, 9]</td>\n",
       "      <td>With the unneeded kinect out of the way this c...</td>\n",
       "      <td>5.0</td>\n",
       "      <td>The Future</td>\n",
       "      <td>2014-06-18</td>\n",
       "    </tr>\n",
       "    <tr>\n",
       "      <th>183105</th>\n",
       "      <td>231779</td>\n",
       "      <td>A27CD59R5U58GG</td>\n",
       "      <td>B00KHECZXO</td>\n",
       "      <td>ThommyGunn</td>\n",
       "      <td>[23, 28]</td>\n",
       "      <td>This is not real, you can go to ANY retail sto...</td>\n",
       "      <td>5.0</td>\n",
       "      <td>DO NOT BUY HERE LOOKS TO BE EUROPEAN VERSION</td>\n",
       "      <td>2014-06-04</td>\n",
       "    </tr>\n",
       "  </tbody>\n",
       "</table>\n",
       "<p>183106 rows × 9 columns</p>\n",
       "</div>"
      ],
      "text/plain": [
       "        Unnamed: 0      reviewerID        asin  \\\n",
       "0                0  A2HD75EMZR8QLN  0700099867   \n",
       "1                1  A3UR8NLLY1ZHCX  0700099867   \n",
       "2                2  A1INA0F5CWW3J4  0700099867   \n",
       "3                4  A361M14PU2GUEG  0700099867   \n",
       "4                5  A2UTRVO4FDCBH6  0700099867   \n",
       "...            ...             ...         ...   \n",
       "183101      231693  A244FWBXEBGG10  B00JM3R6M6   \n",
       "183102      231703   ATKKCGDROU0X0  B00JQ8YH6A   \n",
       "183103      231741  A3TAS1AG6FMBQW  B00JXW6GE0   \n",
       "183104      231754  A3E89VW74Z8TK8  B00KAI3KW2   \n",
       "183105      231779  A27CD59R5U58GG  B00KHECZXO   \n",
       "\n",
       "                                            reviewerName   helpful  \\\n",
       "0                                                    123   [8, 12]   \n",
       "1                     Alejandro Henao \"Electronic Junky\"    [0, 0]   \n",
       "2                             Amazon Shopper \"Mr.Repsol\"    [0, 0]   \n",
       "3                           Angry Ryan \"Ryan A. Forrest\"    [2, 2]   \n",
       "4                                                 A.R.G.    [0, 0]   \n",
       "...                                                  ...       ...   \n",
       "183101                                             Raven    [1, 3]   \n",
       "183102                                             Jpaul    [2, 6]   \n",
       "183103  Jeri Zerr \"formerly a Road Warrior of the Nth...    [0, 0]   \n",
       "183104                                      FallenSphinx    [2, 9]   \n",
       "183105                                        ThommyGunn  [23, 28]   \n",
       "\n",
       "                                               reviewText  overall  \\\n",
       "0       Installing the game was a struggle (because of...      1.0   \n",
       "1       If you like rally cars get this game you will ...      4.0   \n",
       "2       1st shipment received a book instead of the ga...      1.0   \n",
       "3       I had Dirt 2 on Xbox 360 and it was an okay ga...      4.0   \n",
       "4       Overall this is a well done racing game, with ...      4.0   \n",
       "...                                                   ...      ...   \n",
       "183101         Had Fun With It But Starting To Get Boring      5.0   \n",
       "183102  As far as Nancy Drew games go this one is very...      3.0   \n",
       "183103  The KLORTS wired gaming mouse is such a freaki...      5.0   \n",
       "183104  With the unneeded kinect out of the way this c...      5.0   \n",
       "183105  This is not real, you can go to ANY retail sto...      5.0   \n",
       "\n",
       "                                                  summary reviewTime  \n",
       "0                Pay to unlock content? I don't think so. 2012-07-09  \n",
       "1                                         Good rally game 2013-06-30  \n",
       "2                                               Wrong key 2014-06-28  \n",
       "3                                                  DIRT 3 2011-06-14  \n",
       "4       Good racing game, terrible Windows Live Requir... 2013-05-11  \n",
       "...                                                   ...        ...  \n",
       "183101         Fun But Gets Boring When Unlock Everything 2014-07-12  \n",
       "183102               Not a typical mystery but still good 2014-06-04  \n",
       "183103  The KLORTS wired gaming mouse is such a freaki... 2014-07-16  \n",
       "183104                                         The Future 2014-06-18  \n",
       "183105       DO NOT BUY HERE LOOKS TO BE EUROPEAN VERSION 2014-06-04  \n",
       "\n",
       "[183106 rows x 9 columns]"
      ]
     },
     "execution_count": 23,
     "metadata": {},
     "output_type": "execute_result"
    }
   ],
   "source": [
    "total = df_wo_nan.merge(nan_w_pred, how='outer')\n",
    "total"
   ]
  },
  {
   "cell_type": "code",
   "execution_count": 24,
   "metadata": {
    "scrolled": true
   },
   "outputs": [
    {
     "data": {
      "text/html": [
       "<div>\n",
       "<style scoped>\n",
       "    .dataframe tbody tr th:only-of-type {\n",
       "        vertical-align: middle;\n",
       "    }\n",
       "\n",
       "    .dataframe tbody tr th {\n",
       "        vertical-align: top;\n",
       "    }\n",
       "\n",
       "    .dataframe thead th {\n",
       "        text-align: right;\n",
       "    }\n",
       "</style>\n",
       "<table border=\"1\" class=\"dataframe\">\n",
       "  <thead>\n",
       "    <tr style=\"text-align: right;\">\n",
       "      <th></th>\n",
       "      <th>reviewerID</th>\n",
       "      <th>asin</th>\n",
       "      <th>overall</th>\n",
       "    </tr>\n",
       "  </thead>\n",
       "  <tbody>\n",
       "    <tr>\n",
       "      <th>0</th>\n",
       "      <td>A2HD75EMZR8QLN</td>\n",
       "      <td>0700099867</td>\n",
       "      <td>1.0</td>\n",
       "    </tr>\n",
       "    <tr>\n",
       "      <th>1</th>\n",
       "      <td>A3UR8NLLY1ZHCX</td>\n",
       "      <td>0700099867</td>\n",
       "      <td>4.0</td>\n",
       "    </tr>\n",
       "    <tr>\n",
       "      <th>2</th>\n",
       "      <td>A1INA0F5CWW3J4</td>\n",
       "      <td>0700099867</td>\n",
       "      <td>1.0</td>\n",
       "    </tr>\n",
       "    <tr>\n",
       "      <th>3</th>\n",
       "      <td>A361M14PU2GUEG</td>\n",
       "      <td>0700099867</td>\n",
       "      <td>4.0</td>\n",
       "    </tr>\n",
       "    <tr>\n",
       "      <th>4</th>\n",
       "      <td>A2UTRVO4FDCBH6</td>\n",
       "      <td>0700099867</td>\n",
       "      <td>4.0</td>\n",
       "    </tr>\n",
       "  </tbody>\n",
       "</table>\n",
       "</div>"
      ],
      "text/plain": [
       "       reviewerID        asin  overall\n",
       "0  A2HD75EMZR8QLN  0700099867      1.0\n",
       "1  A3UR8NLLY1ZHCX  0700099867      4.0\n",
       "2  A1INA0F5CWW3J4  0700099867      1.0\n",
       "3  A361M14PU2GUEG  0700099867      4.0\n",
       "4  A2UTRVO4FDCBH6  0700099867      4.0"
      ]
     },
     "execution_count": 24,
     "metadata": {},
     "output_type": "execute_result"
    }
   ],
   "source": [
    "new_total = total.drop(['Unnamed: 0', 'reviewerName', 'reviewText', 'helpful', 'summary', 'reviewTime'], axis=1)\n",
    "new_total.head()"
   ]
  },
  {
   "cell_type": "markdown",
   "metadata": {},
   "source": [
    "Восстановили и объеденили со целым датасетом. Далее займемся рекомендациями. Воспользуемся LightFM. Можно и другими методами (кор Пирсона и тд), но библиотека хорошая и не надо pivot_table делать (компьютер старый, 3 раза зависал)."
   ]
  },
  {
   "cell_type": "code",
   "execution_count": 25,
   "metadata": {},
   "outputs": [],
   "source": [
    "#!pip install lightfm\n",
    "from lightfm import LightFM"
   ]
  },
  {
   "cell_type": "code",
   "execution_count": 26,
   "metadata": {},
   "outputs": [],
   "source": [
    "#X, y = new_total[:150000], new_total[150000:]\n",
    "X = new_total[:]"
   ]
  },
  {
   "cell_type": "code",
   "execution_count": 27,
   "metadata": {},
   "outputs": [],
   "source": [
    "from sklearn.preprocessing import LabelEncoder\n",
    "from lightfm.data import Dataset"
   ]
  },
  {
   "cell_type": "code",
   "execution_count": 29,
   "metadata": {
    "scrolled": true
   },
   "outputs": [],
   "source": [
    "le = LabelEncoder()\n",
    "X_new = X.copy()\n",
    "le.fit(X_new.reviewerID)\n",
    "X_new['reviewerID'] = le.transform(X.reviewerID)"
   ]
  },
  {
   "cell_type": "markdown",
   "metadata": {},
   "source": [
    "Нужно создать датасет sparse matrix для модели."
   ]
  },
  {
   "cell_type": "code",
   "execution_count": 30,
   "metadata": {},
   "outputs": [],
   "source": [
    "dataset = Dataset()"
   ]
  },
  {
   "cell_type": "code",
   "execution_count": 31,
   "metadata": {},
   "outputs": [],
   "source": [
    "dataset.fit(users = (row['reviewerID'] for index, row in X.iterrows()),\n",
    "            items = (row['asin'] for index, row in X.iterrows()))"
   ]
  },
  {
   "cell_type": "code",
   "execution_count": 32,
   "metadata": {},
   "outputs": [],
   "source": [
    "(interactions, weights) = dataset.build_interactions((row['reviewerID'], row['asin'], row['overall']) for index, row in X.iterrows())"
   ]
  },
  {
   "cell_type": "code",
   "execution_count": 33,
   "metadata": {},
   "outputs": [],
   "source": [
    "model_cl = LightFM(no_components=20, loss='warp')"
   ]
  },
  {
   "cell_type": "code",
   "execution_count": 34,
   "metadata": {},
   "outputs": [
    {
     "data": {
      "text/plain": [
       "<lightfm.lightfm.LightFM at 0x273b5d17d88>"
      ]
     },
     "execution_count": 34,
     "metadata": {},
     "output_type": "execute_result"
    }
   ],
   "source": [
    "model_cl.fit(interactions,\n",
    "             user_features=None,\n",
    "             item_features=None, \n",
    "             sample_weight=None, \n",
    "             epochs=30, \n",
    "             num_threads=4)"
   ]
  },
  {
   "cell_type": "markdown",
   "metadata": {},
   "source": [
    "Модель обучена, делаем предсказания."
   ]
  },
  {
   "cell_type": "code",
   "execution_count": 312,
   "metadata": {},
   "outputs": [
    {
     "name": "stdout",
     "output_type": "stream",
     "text": [
      "For user 0 model recommended nex games:\n",
      "        B00000K2R4\n",
      "        B00000K4MC\n",
      "        B00000INR2\n",
      "For user 1 model recommended nex games:\n",
      "        B000034DC2\n",
      "        B00004T72D\n",
      "        B00004RBQX\n",
      "For user 2 model recommended nex games:\n",
      "        B00004T72D\n",
      "        B0000488VP\n",
      "        B00002SVMG\n"
     ]
    }
   ],
   "source": [
    "def sample_recommendation(model, data, user_ids, le): \n",
    "#на подаем(модель, данные df после Label enc, списки пользователей (string или int(id)), Label Enc)\n",
    "    #number of users in training data\n",
    "    n_users, n_items = data['reviewerID'].shape[0], data['asin'].shape[0]\n",
    "    ids_ = []\n",
    "    #проверка входа\n",
    "    if isinstance(user_ids[0], int):\n",
    "        flag = 0\n",
    "        pass\n",
    "    else:\n",
    "        for user in range(len(user_ids)):\n",
    "            user_ids[user] = int(le.transform([user_ids[user]]))\n",
    "            ids = data.loc[data['reviewerID'] == user_ids[user]]\n",
    "#             print(ids) # каким играм отметки ставил уже\n",
    "            to_list = list(ids.index)\n",
    "            ids_.append(to_list[0])\n",
    "        flag = 1\n",
    "    #generate recommendations for each user we input\n",
    "    num_items = len(set(list(data['asin'])))\n",
    "    if (flag == 1):     \n",
    "        for user_id in ids_:\n",
    "            scores = model.predict(user_id, np.arange(num_items))\n",
    "            #rank them in order of most liked to least\n",
    "            top_items = data['asin'][np.argsort(-scores)]\n",
    "\n",
    "            #print out the results \n",
    "            print(\"For user %s\" % le.inverse_transform([data['reviewerID'][user_id]]) + ' model recommended next games:')\n",
    "\n",
    "            for x in top_items[:3]:\n",
    "                print(\"        %s\" % x)            \n",
    "    elif (flag == 0):\n",
    "        for user_id in user_ids:\n",
    "            scores = model.predict(user_id, np.arange(num_items))\n",
    "            #rank them in order of most liked to least\n",
    "            top_items = data['asin'][np.argsort(-scores)]\n",
    "\n",
    "            #print out the results\n",
    "            print(\"For user %s\" % user_id + ' model recommended next games:')\n",
    "\n",
    "            for x in top_items[:3]:\n",
    "                print(\"        %s\" % x)\n",
    "\n",
    "# sample_recommendation(model_cl, X_new, [0, 1, 2], le)\n",
    "sample_recommendation(model_cl, X_new, ['A2HD75EMZR8QLN', 'A3UR8NLLY1ZHCX', 'A1INA0F5CWW3J4'], le)"
   ]
  },
  {
   "cell_type": "markdown",
   "metadata": {},
   "source": [
    "На выходе получаем ID игры для пользователя. Использовал для предсказания пропущенных строк оценок Логистическую регрессию. Для рекомендаций: LigthFM.  \n",
    "Что можно улучшить: использовать другую модель предсказания пропущенных оценок (0.63 ну очень смешно дял серьезной задачи). Для LigthFM добрать и использовать весь датасет для создания user_features и item_features, чтобы улучшить качество. "
   ]
  }
 ],
 "metadata": {
  "kernelspec": {
   "display_name": "Python 3",
   "language": "python",
   "name": "python3"
  },
  "language_info": {
   "codemirror_mode": {
    "name": "ipython",
    "version": 3
   },
   "file_extension": ".py",
   "mimetype": "text/x-python",
   "name": "python",
   "nbconvert_exporter": "python",
   "pygments_lexer": "ipython3",
   "version": "3.7.7"
  }
 },
 "nbformat": 4,
 "nbformat_minor": 4
}
